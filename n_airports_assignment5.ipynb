{
 "cells": [
  {
   "cell_type": "code",
   "execution_count": 170,
   "metadata": {},
   "outputs": [],
   "source": [
    "import random\n",
    "import numpy as np\n",
    "import matplotlib.pyplot as plt"
   ]
  },
  {
   "cell_type": "code",
   "execution_count": 307,
   "metadata": {},
   "outputs": [],
   "source": [
    "def getDistCityAirport(city, airport):\n",
    "    '''\n",
    "    Returns the distance between a city and an aiport using the euclidean distance\n",
    "    '''\n",
    "    return (airport[0] - city[0])**2 + (airport[1] - city[1])**2"
   ]
  },
  {
   "cell_type": "code",
   "execution_count": 306,
   "metadata": {},
   "outputs": [],
   "source": [
    "class Cluster:\n",
    "    \"\"\"\n",
    "    A cluster is defined by a set of cities and the relative nearest airport\n",
    "    \n",
    "    \"\"\"\n",
    "    \n",
    "    def __init__(self, airport):\n",
    "        self.cities = list() # list of tuples that contains all cities coordinates in the cluster\n",
    "        self.airport = airport # tuple of coordinate for the airport\n",
    "        self.cost = 0 # global cost of the cluster\n",
    "\n",
    "    \n",
    "    def addCities(self,city):\n",
    "        self.cities.append(city)\n",
    "    \n",
    "    def getCities(self):\n",
    "        return self.cities\n",
    "\n",
    "    def getAirport(self):\n",
    "        return self.airport\n",
    "\n",
    "    def setAirport(self, newAirport):\n",
    "        self.airport = newAirport\n",
    "\n",
    "    def computeCost(self):\n",
    "        cost = 0\n",
    "        for city in self.cities :\n",
    "            cost += getDistCityAirport(city, self.airport)\n",
    "            \n",
    "        self.cost = cost\n",
    "\n",
    "    def getCost(self):\n",
    "        return self.cost\n"
   ]
  },
  {
   "cell_type": "code",
   "execution_count": 305,
   "metadata": {},
   "outputs": [],
   "source": [
    "def assignCluster(airports, cities):\n",
    "    \"\"\"Assign the cities and airports to their relative cluster\n",
    "    \n",
    "    Keyword arguments:\n",
    "    airports -- list of all airports\n",
    "    cities -- list of all cities\n",
    "    Return: clusters a list of cluster's instances\n",
    "    \"\"\"\n",
    "    \n",
    "    clusters = list()\n",
    "    for i in airports :\n",
    "        clusters.append(Cluster(i))\n",
    "    \n",
    "    for city in cities :\n",
    "\n",
    "        # create a dict that will contain the distance from city to airport\n",
    "        distCityAirports = dict()    \n",
    "    \n",
    "        for airport in airports :\n",
    "            # compute the distance between the city and the airport\n",
    "            distCityAirports[airport] = getDistCityAirport(city, airport)\n",
    "        \n",
    "        # sort the computed distances\n",
    "        distCityAirports = dict(sorted(distCityAirports.items(), key=lambda item: item[1]))\n",
    "        # keep in a list the associated airports\n",
    "        sortedAirports = list(distCityAirports.keys())\n",
    "\n",
    "        for cluster in clusters :\n",
    "            \n",
    "            if cluster.getAirport() == sortedAirports[0] :\n",
    "                # add the city to its proper cluster according to the shorstest distance to the airport\n",
    "                cluster.addCities(city)\n",
    "                \n",
    "    return clusters\n"
   ]
  },
  {
   "cell_type": "code",
   "execution_count": 330,
   "metadata": {},
   "outputs": [],
   "source": [
    "def nearestAirport(airports, cities, clusters = None):\n",
    "    \"\"\"\"Compute the relative cost of each cluster\n",
    "    \n",
    "    Keyword arguments:\n",
    "    airports -- the list of all airports (only for the initialization of the clusters)\n",
    "    cities -- list of all cities (only for the initialization of the clusters)\n",
    "    clusters -- default value = None, the list of cluster's instances\n",
    "    Return: clusters, a list of cluster's instances with their relative computed cost\n",
    "    \"\"\"\n",
    "    if clusters == None :\n",
    "        # initialize the clusters : assign each city and airport to its cluster\n",
    "        clusters = assignCluster(airports, cities)\n",
    "\n",
    "    # for each cluster update the actual cost \n",
    "    for cluster in clusters :\n",
    "        cluster.computeCost()\n",
    "            \n",
    "    return clusters\n",
    "        "
   ]
  },
  {
   "cell_type": "code",
   "execution_count": 303,
   "metadata": {},
   "outputs": [],
   "source": [
    "def partialDerivate(cluster):\n",
    "    \"\"\"compute the partial derivate of the objective function on a specific cluster\n",
    "    \n",
    "    Keyword arguments:\n",
    "    cluster -- an instance of the class Cluster\n",
    "    Return: the sum of partial derivates of the objective function for the considered cluster\n",
    "    \"\"\"\n",
    "    \n",
    "    partialX = 0\n",
    "    partialY = 0\n",
    "\n",
    "    for city in cluster.getCities() :\n",
    "        clusterAirport = cluster.getAirport()\n",
    "        x = clusterAirport[0] - city[0]\n",
    "        y = clusterAirport[1] - city[1]\n",
    "\n",
    "        partialX += x\n",
    "        partialY += y\n",
    "\n",
    "    return (2 * partialX , 2 * partialY)"
   ]
  },
  {
   "cell_type": "code",
   "execution_count": 302,
   "metadata": {},
   "outputs": [],
   "source": [
    "def gradient(clusters):\n",
    "    \"\"\"compute the gradient descent on each cluster, and update the cluster's airport coordinates\n",
    "    \n",
    "    Keyword arguments:\n",
    "    clusters -- list of cluster's instances\n",
    "    \"\"\"\n",
    "    \n",
    "    lr = 0.01 # set the learning rate\n",
    "    \n",
    "    for cluster in clusters :\n",
    "        ClusterAirport = cluster.getAirport()\n",
    "        partial = partialDerivate(cluster) \n",
    "        \n",
    "        newx = ClusterAirport[0] - (lr * partial[0])\n",
    "        newy = ClusterAirport[1] - (lr * partial[1])\n",
    "        cluster.setAirport((newx,newy))\n",
    "        "
   ]
  },
  {
   "cell_type": "code",
   "execution_count": 301,
   "metadata": {},
   "outputs": [],
   "source": [
    "def getGlobalCost(clusters):\n",
    "    \"\"\"Compute the global objective function of the current state\n",
    "    \n",
    "    Keyword arguments:\n",
    "    clusters -- list of cluster's instance\n",
    "    Return: globalCost, the overall cost of the state\n",
    "    \"\"\"\n",
    "    \n",
    "    globalCost = 0\n",
    "    for cluster in clusters :\n",
    "        globalCost += cluster.getCost()\n",
    "    return globalCost"
   ]
  },
  {
   "cell_type": "code",
   "execution_count": 324,
   "metadata": {},
   "outputs": [],
   "source": [
    "def plotMap(cities, airports):\n",
    "    zip_cities = zip(*cities)\n",
    "    plt.scatter(*zip_cities, marker='+',color='b', label='Cities')\n",
    "    \n",
    "    zip_airs = zip(*airports)\n",
    "    plt.title(\"Final Position of airports\")\n",
    "    plt.scatter(*zip_airs, marker='*', color='r', s=100, label='Airports')\n",
    "    plt.show()\n",
    "    plt.close()\n",
    "\n",
    "def plotEpochInfo(epochs,nb_epoch):\n",
    "    zip_epochs = zip(*epochs)\n",
    "    plt.scatter(*zip_epochs, color='b', s=50)\n",
    "    plt.xlabel(\"Epoch\")\n",
    "    plt.ylabel(\"Objective\")\n",
    "    plt.title(\"Objective Function, Epoch \" + str(nb_epoch))\n",
    "    plt.show()\n",
    "    plt.close()"
   ]
  },
  {
   "cell_type": "code",
   "execution_count": 326,
   "metadata": {},
   "outputs": [],
   "source": [
    "def gradientDescent(cities, airports):\n",
    "    \"\"\"Compute the gardient based algorithm on the n-airport problem\n",
    "    \n",
    "    Keyword arguments:\n",
    "    cities -- a list of all the cities defined for the problem\n",
    "    airports -- a list of all the airports for which the coordinates need to be update \n",
    "    \"\"\"\n",
    "    \n",
    "    epoch = 0\n",
    "    iterations = []\n",
    "\n",
    "    #initialize the clusters and compute their costs\n",
    "    clusters = nearestAirport(airports, cities)\n",
    "\n",
    "    # Initialize the first data point\n",
    "    iterations.append((epoch, getGlobalCost(clusters)))\n",
    "\n",
    "    while iterations[len(iterations) - 1][1] < iterations[len(iterations) - 2][1] or epoch == 0:\n",
    "        \n",
    "        epoch += 1\n",
    "        #compute the gradient to change the airport position\n",
    "        gradient(clusters)\n",
    "\n",
    "        #update the cost of each cluster\n",
    "        nearestAirport(cities, airports, clusters)\n",
    "\n",
    "        # collect the iteration information (epoch and cost)\n",
    "        iterations.append((epoch, getGlobalCost(clusters)))\n",
    "\n",
    "        # plot the final positions of the airports\n",
    "        if iterations[len(iterations) - 2][1] <= iterations[len(iterations)- 1][1]:\n",
    "\n",
    "            finalAirportPosition = list()\n",
    "            for cluster in clusters :\n",
    "                finalAirportPosition.append(cluster.getAirport())\n",
    "            \n",
    "\n",
    "            plotMap(cities, finalAirportPosition)\n",
    "\n",
    "    plotEpochInfo(iterations,epoch)\n",
    "        "
   ]
  },
  {
   "cell_type": "code",
   "execution_count": 327,
   "metadata": {},
   "outputs": [],
   "source": [
    "def main():\n",
    "    num_city = 100\n",
    "    num_air = 3\n",
    "    num_center = 5 \n",
    "    sigma = 0.1\n",
    "    cities = set()\n",
    "    airports = []\n",
    "\n",
    "    for i in range(num_center):\n",
    "        x = random.random()\n",
    "        y = random.random()\n",
    "        xc = np.random.normal(x, sigma, num_city//num_center)\n",
    "        yc = np.random.normal(y, sigma, num_city//num_center)\n",
    "        cities = cities.union(zip(xc, yc))\n",
    "\n",
    "\n",
    "    for i in range(num_air):\n",
    "        x = random.random()\n",
    "        y = random.random()\n",
    "        airports.append((x,y)) \n",
    "\n",
    "    import matplotlib.pyplot as plt\n",
    "\n",
    "    zip_cities = zip(*cities)\n",
    "    plt.scatter(*zip_cities, marker='+',color='b', label='Cities')\n",
    "    zip_airs = zip(*airports)\n",
    "    plt.scatter(*zip_airs, marker='*', color='r', s=100, label='Airports')\n",
    "    plt.legend()\n",
    "    plt.show()\n",
    "\n",
    "    gradientDescent(cities, airports)"
   ]
  },
  {
   "cell_type": "code",
   "execution_count": 331,
   "metadata": {},
   "outputs": [
    {
     "data": {
      "image/png": "[encoded data removed]",
      "text/plain": [
       "<Figure size 640x480 with 1 Axes>"
      ]
     },
     "metadata": {},
     "output_type": "display_data"
    },
    {
     "data": {
      "image/png": "[encoded data removed]",
      "text/plain": [
       "<Figure size 640x480 with 1 Axes>"
      ]
     },
     "metadata": {},
     "output_type": "display_data"
    },
    {
     "data": {
      "image/png": "[encoded data removed]",
      "text/plain": [
       "<Figure size 640x480 with 1 Axes>"
      ]
     },
     "metadata": {},
     "output_type": "display_data"
    }
   ],
   "source": [
    "main()"
   ]
  },
  {
   "cell_type": "code",
   "execution_count": null,
   "metadata": {},
   "outputs": [],
   "source": []
  }
 ],
 "metadata": {
  "kernelspec": {
   "display_name": "Python 3.9.13 64-bit (microsoft store)",
   "language": "python",
   "name": "python3"
  },
  "language_info": {
   "codemirror_mode": {
    "name": "ipython",
    "version": 3
   },
   "file_extension": ".py",
   "mimetype": "text/x-python",
   "name": "python",
   "nbconvert_exporter": "python",
   "pygments_lexer": "ipython3",
   "version": "3.9.13"
  },
  "orig_nbformat": 4,
  "vscode": {
   "interpreter": {
    "hash": "e11fd825e4a4a62d53b3f8a88b5fd45e032c7a9522b68ab7122e52fa0ad8a7dc"
   }
  }
 },
 "nbformat": 4,
 "nbformat_minor": 2
}
